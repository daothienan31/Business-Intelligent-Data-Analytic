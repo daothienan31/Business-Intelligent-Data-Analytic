{
 "cells": [
  {
   "cell_type": "code",
   "execution_count": 11,
   "id": "633d827a",
   "metadata": {},
   "outputs": [],
   "source": [
    "import pandas as pd\n",
    "from sklearn.tree import DecisionTreeRegressor\n",
    "from sklearn.metrics import mean_absolute_error\n",
    "from sklearn.model_selection import train_test_split\n",
    "\n",
    "algerian_forest_fires_data = pd.read_csv('Algerian_forest_fires_dataset.csv')"
   ]
  },
  {
   "cell_type": "code",
   "execution_count": 3,
   "id": "572355c4",
   "metadata": {},
   "outputs": [
    {
     "data": {
      "text/html": [
       "<div>\n",
       "<style scoped>\n",
       "    .dataframe tbody tr th:only-of-type {\n",
       "        vertical-align: middle;\n",
       "    }\n",
       "\n",
       "    .dataframe tbody tr th {\n",
       "        vertical-align: top;\n",
       "    }\n",
       "\n",
       "    .dataframe thead th {\n",
       "        text-align: right;\n",
       "    }\n",
       "</style>\n",
       "<table border=\"1\" class=\"dataframe\">\n",
       "  <thead>\n",
       "    <tr style=\"text-align: right;\">\n",
       "      <th></th>\n",
       "      <th>day</th>\n",
       "      <th>month</th>\n",
       "      <th>year</th>\n",
       "      <th>Temperature</th>\n",
       "      <th>Relative_Humidity</th>\n",
       "      <th>Wind_speed</th>\n",
       "      <th>Rain</th>\n",
       "      <th>Fine_Fuel_Moisture_Code</th>\n",
       "      <th>Duff_Moisture_Code</th>\n",
       "      <th>Drought_Code</th>\n",
       "      <th>Initial_Spread_Index</th>\n",
       "      <th>Buildup_Index</th>\n",
       "      <th>Fire_Weather_Index</th>\n",
       "      <th>Fire_Binary</th>\n",
       "    </tr>\n",
       "  </thead>\n",
       "  <tbody>\n",
       "    <tr>\n",
       "      <th>count</th>\n",
       "      <td>122.000000</td>\n",
       "      <td>122.000000</td>\n",
       "      <td>122.0</td>\n",
       "      <td>122.000000</td>\n",
       "      <td>122.000000</td>\n",
       "      <td>122.000000</td>\n",
       "      <td>122.000000</td>\n",
       "      <td>122.000000</td>\n",
       "      <td>122.000000</td>\n",
       "      <td>122.000000</td>\n",
       "      <td>122.000000</td>\n",
       "      <td>122.000000</td>\n",
       "      <td>122.000000</td>\n",
       "      <td>122.000000</td>\n",
       "    </tr>\n",
       "    <tr>\n",
       "      <th>mean</th>\n",
       "      <td>15.754098</td>\n",
       "      <td>7.500000</td>\n",
       "      <td>2012.0</td>\n",
       "      <td>33.163934</td>\n",
       "      <td>55.901639</td>\n",
       "      <td>15.008197</td>\n",
       "      <td>0.678689</td>\n",
       "      <td>81.102459</td>\n",
       "      <td>17.031967</td>\n",
       "      <td>45.415574</td>\n",
       "      <td>5.863934</td>\n",
       "      <td>17.920492</td>\n",
       "      <td>8.520492</td>\n",
       "      <td>0.647541</td>\n",
       "    </tr>\n",
       "    <tr>\n",
       "      <th>std</th>\n",
       "      <td>8.843274</td>\n",
       "      <td>1.115259</td>\n",
       "      <td>0.0</td>\n",
       "      <td>3.675608</td>\n",
       "      <td>15.716186</td>\n",
       "      <td>2.692186</td>\n",
       "      <td>1.486759</td>\n",
       "      <td>12.244064</td>\n",
       "      <td>12.995068</td>\n",
       "      <td>42.927562</td>\n",
       "      <td>4.803667</td>\n",
       "      <td>13.870785</td>\n",
       "      <td>8.137424</td>\n",
       "      <td>0.479706</td>\n",
       "    </tr>\n",
       "    <tr>\n",
       "      <th>min</th>\n",
       "      <td>1.000000</td>\n",
       "      <td>6.000000</td>\n",
       "      <td>2012.0</td>\n",
       "      <td>24.000000</td>\n",
       "      <td>21.000000</td>\n",
       "      <td>6.000000</td>\n",
       "      <td>0.000000</td>\n",
       "      <td>37.900000</td>\n",
       "      <td>0.900000</td>\n",
       "      <td>7.300000</td>\n",
       "      <td>0.100000</td>\n",
       "      <td>1.400000</td>\n",
       "      <td>0.000000</td>\n",
       "      <td>0.000000</td>\n",
       "    </tr>\n",
       "    <tr>\n",
       "      <th>25%</th>\n",
       "      <td>8.000000</td>\n",
       "      <td>7.000000</td>\n",
       "      <td>2012.0</td>\n",
       "      <td>30.000000</td>\n",
       "      <td>43.250000</td>\n",
       "      <td>14.000000</td>\n",
       "      <td>0.000000</td>\n",
       "      <td>77.650000</td>\n",
       "      <td>7.325000</td>\n",
       "      <td>14.700000</td>\n",
       "      <td>1.825000</td>\n",
       "      <td>7.400000</td>\n",
       "      <td>0.925000</td>\n",
       "      <td>0.000000</td>\n",
       "    </tr>\n",
       "    <tr>\n",
       "      <th>50%</th>\n",
       "      <td>16.000000</td>\n",
       "      <td>7.500000</td>\n",
       "      <td>2012.0</td>\n",
       "      <td>34.000000</td>\n",
       "      <td>56.000000</td>\n",
       "      <td>15.000000</td>\n",
       "      <td>0.000000</td>\n",
       "      <td>84.850000</td>\n",
       "      <td>13.150000</td>\n",
       "      <td>31.500000</td>\n",
       "      <td>4.600000</td>\n",
       "      <td>13.900000</td>\n",
       "      <td>6.050000</td>\n",
       "      <td>1.000000</td>\n",
       "    </tr>\n",
       "    <tr>\n",
       "      <th>75%</th>\n",
       "      <td>23.000000</td>\n",
       "      <td>8.000000</td>\n",
       "      <td>2012.0</td>\n",
       "      <td>36.000000</td>\n",
       "      <td>66.750000</td>\n",
       "      <td>16.750000</td>\n",
       "      <td>0.475000</td>\n",
       "      <td>89.275000</td>\n",
       "      <td>22.900000</td>\n",
       "      <td>56.975000</td>\n",
       "      <td>8.625000</td>\n",
       "      <td>23.875000</td>\n",
       "      <td>13.650000</td>\n",
       "      <td>1.000000</td>\n",
       "    </tr>\n",
       "    <tr>\n",
       "      <th>max</th>\n",
       "      <td>31.000000</td>\n",
       "      <td>9.000000</td>\n",
       "      <td>2012.0</td>\n",
       "      <td>42.000000</td>\n",
       "      <td>90.000000</td>\n",
       "      <td>29.000000</td>\n",
       "      <td>8.700000</td>\n",
       "      <td>96.000000</td>\n",
       "      <td>65.900000</td>\n",
       "      <td>177.300000</td>\n",
       "      <td>19.000000</td>\n",
       "      <td>68.000000</td>\n",
       "      <td>31.100000</td>\n",
       "      <td>1.000000</td>\n",
       "    </tr>\n",
       "  </tbody>\n",
       "</table>\n",
       "</div>"
      ],
      "text/plain": [
       "              day       month    year  Temperature  Relative_Humidity  \\\n",
       "count  122.000000  122.000000   122.0   122.000000         122.000000   \n",
       "mean    15.754098    7.500000  2012.0    33.163934          55.901639   \n",
       "std      8.843274    1.115259     0.0     3.675608          15.716186   \n",
       "min      1.000000    6.000000  2012.0    24.000000          21.000000   \n",
       "25%      8.000000    7.000000  2012.0    30.000000          43.250000   \n",
       "50%     16.000000    7.500000  2012.0    34.000000          56.000000   \n",
       "75%     23.000000    8.000000  2012.0    36.000000          66.750000   \n",
       "max     31.000000    9.000000  2012.0    42.000000          90.000000   \n",
       "\n",
       "       Wind_speed       Rain   Fine_Fuel_Moisture_Code  Duff_Moisture_Code  \\\n",
       "count  122.000000  122.000000               122.000000          122.000000   \n",
       "mean    15.008197    0.678689                81.102459           17.031967   \n",
       "std      2.692186    1.486759                12.244064           12.995068   \n",
       "min      6.000000    0.000000                37.900000            0.900000   \n",
       "25%     14.000000    0.000000                77.650000            7.325000   \n",
       "50%     15.000000    0.000000                84.850000           13.150000   \n",
       "75%     16.750000    0.475000                89.275000           22.900000   \n",
       "max     29.000000    8.700000                96.000000           65.900000   \n",
       "\n",
       "       Drought_Code  Initial_Spread_Index  Buildup_Index  Fire_Weather_Index  \\\n",
       "count    122.000000            122.000000     122.000000          122.000000   \n",
       "mean      45.415574              5.863934      17.920492            8.520492   \n",
       "std       42.927562              4.803667      13.870785            8.137424   \n",
       "min        7.300000              0.100000       1.400000            0.000000   \n",
       "25%       14.700000              1.825000       7.400000            0.925000   \n",
       "50%       31.500000              4.600000      13.900000            6.050000   \n",
       "75%       56.975000              8.625000      23.875000           13.650000   \n",
       "max      177.300000             19.000000      68.000000           31.100000   \n",
       "\n",
       "       Fire_Binary  \n",
       "count   122.000000  \n",
       "mean      0.647541  \n",
       "std       0.479706  \n",
       "min       0.000000  \n",
       "25%       0.000000  \n",
       "50%       1.000000  \n",
       "75%       1.000000  \n",
       "max       1.000000  "
      ]
     },
     "execution_count": 3,
     "metadata": {},
     "output_type": "execute_result"
    }
   ],
   "source": [
    "#There were 2 datasets but Sidi-bel Abbes Region Dataset was selected\n",
    "algerian_forest_fires_data.describe()"
   ]
  },
  {
   "cell_type": "code",
   "execution_count": 4,
   "id": "c6f71b75",
   "metadata": {},
   "outputs": [
    {
     "data": {
      "text/plain": [
       "Index(['day', 'month', 'year', 'Temperature', 'Relative_Humidity',\n",
       "       'Wind_speed', 'Rain ', 'Fine_Fuel_Moisture_Code', 'Duff_Moisture_Code',\n",
       "       'Drought_Code', 'Initial_Spread_Index', 'Buildup_Index',\n",
       "       'Fire_Weather_Index', 'Fire', 'Fire_Binary'],\n",
       "      dtype='object')"
      ]
     },
     "execution_count": 4,
     "metadata": {},
     "output_type": "execute_result"
    }
   ],
   "source": [
    "#listing attributes\n",
    "algerian_forest_fires_data.columns"
   ]
  },
  {
   "cell_type": "code",
   "execution_count": 5,
   "id": "9029cb9d",
   "metadata": {},
   "outputs": [
    {
     "data": {
      "text/plain": [
       "<bound method DataFrame.drop_duplicates of      day  month  year  Temperature  Relative_Humidity  Wind_speed  Rain   \\\n",
       "0      1      6  2012           32                 71          12    0.7   \n",
       "1      2      6  2012           30                 73          13    4.0   \n",
       "2      3      6  2012           29                 80          14    2.0   \n",
       "3      4      6  2012           30                 64          14    0.0   \n",
       "4      5      6  2012           32                 60          14    0.2   \n",
       "..   ...    ...   ...          ...                ...         ...    ...   \n",
       "117   26      9  2012           30                 65          14    0.0   \n",
       "118   27      9  2012           28                 87          15    4.4   \n",
       "119   28      9  2012           27                 87          29    0.5   \n",
       "120   29      9  2012           24                 54          18    0.1   \n",
       "121   30      9  2012           24                 64          15    0.2   \n",
       "\n",
       "     Fine_Fuel_Moisture_Code  Duff_Moisture_Code  Drought_Code  \\\n",
       "0                       57.1                 2.5           8.2   \n",
       "1                       55.7                 2.7           7.8   \n",
       "2                       48.7                 2.2           7.6   \n",
       "3                       79.4                 5.2          15.4   \n",
       "4                       77.1                 6.0          17.6   \n",
       "..                       ...                 ...           ...   \n",
       "117                     85.4                16.0          44.5   \n",
       "118                     41.1                 6.5           8.0   \n",
       "119                     45.9                 3.5           7.9   \n",
       "120                     79.7                 4.3          15.2   \n",
       "121                     67.3                 3.8          16.5   \n",
       "\n",
       "     Initial_Spread_Index  Buildup_Index  Fire_Weather_Index          Fire  \\\n",
       "0                     0.6            2.8                 0.2   not fire      \n",
       "1                     0.6            2.9                 0.2   not fire      \n",
       "2                     0.3            2.6                 0.1   not fire      \n",
       "3                     2.2            5.6                 1.0   not fire      \n",
       "4                     1.8            6.5                 0.9   not fire      \n",
       "..                    ...            ...                 ...           ...   \n",
       "117                   4.5           16.9                 6.5       fire      \n",
       "118                   0.1            6.2                 0.0   not fire      \n",
       "119                   0.4            3.4                 0.2   not fire      \n",
       "120                   1.7            5.1                 0.7   not fire      \n",
       "121                   1.2            4.8                 0.5  not fire       \n",
       "\n",
       "     Fire_Binary  \n",
       "0              0  \n",
       "1              0  \n",
       "2              0  \n",
       "3              0  \n",
       "4              0  \n",
       "..           ...  \n",
       "117            1  \n",
       "118            0  \n",
       "119            0  \n",
       "120            0  \n",
       "121            0  \n",
       "\n",
       "[122 rows x 15 columns]>"
      ]
     },
     "execution_count": 5,
     "metadata": {},
     "output_type": "execute_result"
    }
   ],
   "source": [
    "#removing duplicates values\n",
    "algerian_forest_fires_data.drop_duplicates"
   ]
  },
  {
   "cell_type": "code",
   "execution_count": 6,
   "id": "27b56d3e",
   "metadata": {},
   "outputs": [],
   "source": [
    "#machine-learning Clasess (fire or not fire), this attribute is changed to Fire\n",
    "y = algerian_forest_fires_data.Fire_Binary"
   ]
  },
  {
   "cell_type": "code",
   "execution_count": 7,
   "id": "558d862c",
   "metadata": {},
   "outputs": [],
   "source": [
    "#attribute that cost forest fire\n",
    "forest_fires_features = ['Fine_Fuel_Moisture_Code', 'Wind_speed', 'Duff_Moisture_Code', 'Drought_Code']\n",
    "x = algerian_forest_fires_data[forest_fires_features]"
   ]
  },
  {
   "cell_type": "code",
   "execution_count": 8,
   "id": "fb83ba53",
   "metadata": {},
   "outputs": [
    {
     "data": {
      "text/plain": [
       "DecisionTreeRegressor(random_state=5)"
      ]
     },
     "execution_count": 8,
     "metadata": {},
     "output_type": "execute_result"
    }
   ],
   "source": [
    "forest_fires_model = DecisionTreeRegressor(random_state=5)\n",
    "forest_fires_model.fit(x, y)"
   ]
  },
  {
   "cell_type": "code",
   "execution_count": 9,
   "id": "8e9f4487",
   "metadata": {
    "scrolled": true
   },
   "outputs": [
    {
     "name": "stdout",
     "output_type": "stream",
     "text": [
      "Making predictions for the following 5 days:\n",
      "   Fine_Fuel_Moisture_Code  Wind_speed  Duff_Moisture_Code  Drought_Code\n",
      "0                     57.1          12                 2.5           8.2\n",
      "1                     55.7          13                 2.7           7.8\n",
      "2                     48.7          14                 2.2           7.6\n",
      "3                     79.4          14                 5.2          15.4\n",
      "4                     77.1          14                 6.0          17.6\n",
      "The predictions are\n",
      "[0. 0. 0. 0. 0.]\n"
     ]
    }
   ],
   "source": [
    "print(\"Making predictions for the following 5 days:\")\n",
    "print(x.head())\n",
    "print(\"The predictions are\")\n",
    "print(forest_fires_model.predict(x.head()))"
   ]
  },
  {
   "cell_type": "code",
   "execution_count": 10,
   "id": "8fbb3bb8",
   "metadata": {},
   "outputs": [
    {
     "data": {
      "text/plain": [
       "0.0"
      ]
     },
     "execution_count": 10,
     "metadata": {},
     "output_type": "execute_result"
    }
   ],
   "source": [
    "predicted_forest_fires = forest_fires_model.predict(x)\n",
    "mean_absolute_error(y, predicted_forest_fires) #calculate absolute error, bad example with forest fire dataset"
   ]
  },
  {
   "cell_type": "code",
   "execution_count": 14,
   "id": "103c1169",
   "metadata": {},
   "outputs": [
    {
     "name": "stdout",
     "output_type": "stream",
     "text": [
      "0.0\n"
     ]
    }
   ],
   "source": [
    "# split data into training and validation data, for both features and target\n",
    "# The split is based on a random number generator. Supplying a numeric value to\n",
    "# the random_state argument guarantees we get the same split every time we\n",
    "train_x, val_x, train_y, val_y = train_test_split(x, y, random_state = 0)\n",
    "forest_fires_model = DecisionTreeRegressor()\n",
    "forest_fires_model.fit(train_x, train_y)\n",
    "val_predictions = forest_fires_model.predict(val_x)\n",
    "print(mean_absolute_error(val_y, val_predictions))"
   ]
  },
  {
   "cell_type": "code",
   "execution_count": null,
   "id": "0044c823",
   "metadata": {},
   "outputs": [],
   "source": []
  }
 ],
 "metadata": {
  "kernelspec": {
   "display_name": "Python 3 (ipykernel)",
   "language": "python",
   "name": "python3"
  },
  "language_info": {
   "codemirror_mode": {
    "name": "ipython",
    "version": 3
   },
   "file_extension": ".py",
   "mimetype": "text/x-python",
   "name": "python",
   "nbconvert_exporter": "python",
   "pygments_lexer": "ipython3",
   "version": "3.9.7"
  }
 },
 "nbformat": 4,
 "nbformat_minor": 5
}
